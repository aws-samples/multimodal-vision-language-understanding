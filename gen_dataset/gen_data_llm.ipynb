{
 "cells": [
  {
   "cell_type": "markdown",
   "id": "f200179d-1cbb-4620-b0df-043c847d23ab",
   "metadata": {},
   "source": [
    "## Create instruct dataset with Mixtral"
   ]
  },
  {
   "cell_type": "code",
   "execution_count": null,
   "id": "b915a2fe-958a-4b93-957b-3882fd62f4ab",
   "metadata": {
    "scrolled": true,
    "tags": []
   },
   "outputs": [],
   "source": [
    "pip install langchain"
   ]
  },
  {
   "cell_type": "markdown",
   "id": "a82d617d-3f51-4761-a577-ca391d447467",
   "metadata": {},
   "source": [
    "### Create a Mixtral 8x7B endpoint"
   ]
  },
  {
   "cell_type": "code",
   "execution_count": null,
   "id": "40e59561-1e79-4099-ace1-3f05516b9225",
   "metadata": {
    "tags": []
   },
   "outputs": [],
   "source": [
    "from PIL import Image\n",
    "import base64\n",
    "import json\n",
    "import os\n",
    "\n",
    "from utils import *\n",
    "\n",
    "from sagemaker.jumpstart.model import JumpStartModel\n",
    "\n",
    "smr_client = boto3.client(\"sagemaker-runtime\")\n",
    "\n",
    "# Set the endpoint name if using the existing endpoint\n",
    "llm_endpoint_name = None\n",
    "initial_instance_count = 1 # change it to a large value when running on the whole dataset\n",
    "if llm_endpoint_name is None:\n",
    "    model_id = \"huggingface-llm-mixtral-8x7b-instruct\"\n",
    "    model = JumpStartModel(model_id=model_id)\n",
    "    predictor = model.deploy(initial_instance_count=initial_instance_count)\n",
    "    llm_endpoint_name = predictor.endpoint"
   ]
  },
  {
   "cell_type": "markdown",
   "id": "0b8034c1-9dbb-4056-a105-2bd5a521880f",
   "metadata": {},
   "source": [
    "### Prepare dataset"
   ]
  },
  {
   "cell_type": "markdown",
   "id": "0cdabd0f-468d-4b7d-b1b2-eb9893bae05c",
   "metadata": {},
   "source": [
    "#### Data selection\n",
    "Only choose the samples used in `llava_v1_5_mix665k`. It contains the following data source:\n",
    "\n",
    "<table>\n",
    "    <tr><th>Data</th><th>Size</th></tr>\n",
    "    <tr><td>LLaVA</td><td>158K</td></tr>\n",
    "    <tr><td>ShareGPT</td><td>40K</td></tr>\n",
    "    <tr><td>GQA</td><td>72K</td></tr>\n",
    "    <tr><td>OKVQA</td><td>9K</td></tr>\n",
    "    <tr><td>OCRVQA</td><td>80K</td></tr>\n",
    "    <tr><td>A-OKVQA</td><td>50K</td></tr>\n",
    "    <tr><td>TextCaps</td><td>22K</td></tr>\n",
    "    <tr><td>RefCOCO</td><td>30K</td></tr>\n",
    "    <tr><td>VG</td><td>86K</td></tr>\n",
    "</table>"
   ]
  },
  {
   "cell_type": "code",
   "execution_count": null,
   "id": "1b685963-f6a5-49e6-98f2-05435f4303f8",
   "metadata": {},
   "outputs": [],
   "source": [
    "!cd dataset && bash prepare_dataset.sh"
   ]
  },
  {
   "cell_type": "code",
   "execution_count": null,
   "id": "9794bd36-9f1f-485d-af48-ff887140cde6",
   "metadata": {
    "tags": []
   },
   "outputs": [],
   "source": [
    "dataset_dir = \"dataset\"\n",
    "\n",
    "with open(os.path.join(dataset_dir, 'LLaVA-Instruct-150K/llava_v1_5_mix665k.json'), 'r') as f:\n",
    "    mix665k = json.load(f)"
   ]
  },
  {
   "cell_type": "code",
   "execution_count": null,
   "id": "3a858545-09db-4689-bfcb-650754467aa8",
   "metadata": {
    "tags": []
   },
   "outputs": [],
   "source": [
    "mix665_dict = {}\n",
    "\n",
    "turn_num = []\n",
    "for ins_data in mix665k:\n",
    "    if ins_data['id'] in mix665_dict:\n",
    "        mix665_dict[ins_data['id']].append(ins_data)\n",
    "    else:\n",
    "        mix665_dict[ins_data['id']] = [ins_data]\n",
    "        turn_num.append(len(ins_data['conversations'])/2)"
   ]
  },
  {
   "cell_type": "markdown",
   "id": "a1f98572-784f-4d20-99c1-33d8296c274e",
   "metadata": {},
   "source": [
    "Choose the dataset"
   ]
  },
  {
   "cell_type": "code",
   "execution_count": null,
   "id": "f6db291f-ab33-429f-8c6d-d096b4b74f78",
   "metadata": {
    "tags": []
   },
   "outputs": [],
   "source": [
    "dataset_name = 'coco'\n",
    "\n",
    "def load_coco(coco_caption_path):\n",
    "    with open(coco_caption_path, 'r') as f:\n",
    "        coco_caption = json.load(f)\n",
    "\n",
    "    coco_cap_new = {}\n",
    "    for cap in coco_caption['annotations']:\n",
    "        if cap['image_id'] in coco_cap_new:\n",
    "            coco_cap_new[cap['image_id']].append(cap['caption'])\n",
    "        else:\n",
    "            coco_cap_new[cap['image_id']] = [cap['caption']]\n",
    "            \n",
    "    return coco_cap_new\n",
    "\n",
    "caption_path = os.path.join(dataset_dir, \"annotations/captions_train2017.json\")\n",
    "coco_cap_new = load_coco(caption_path)"
   ]
  },
  {
   "cell_type": "markdown",
   "id": "0f39db4d-b6ca-488d-805b-b2fe9dd4b0d7",
   "metadata": {},
   "source": [
    "Filter dataset as`llava_v1_5_mix665k.json` mixting multiple dataset."
   ]
  },
  {
   "cell_type": "code",
   "execution_count": null,
   "id": "426b2b59-5608-477d-80ef-a424ce3980c9",
   "metadata": {
    "scrolled": true,
    "tags": []
   },
   "outputs": [],
   "source": [
    "filtered_data = {}\n",
    "\n",
    "for img_id, ann in mix665_dict.items():\n",
    "    if 'image' in ann[0] and dataset_name in ann[0]['image']:\n",
    "        filtered_data[str(int(img_id))] = ann\n",
    "coco_ids = [img_id for img_id in filtered_data.keys()]"
   ]
  },
  {
   "cell_type": "markdown",
   "id": "f425b5ea-1978-4dea-97a2-af55fc29fe76",
   "metadata": {},
   "source": [
    "Only choose `image_id` existing in `llava_v1_5_mix665k.json` for performance comparison"
   ]
  },
  {
   "cell_type": "code",
   "execution_count": null,
   "id": "b3e2ab9c-3403-4ea3-a284-f8a066e29727",
   "metadata": {
    "tags": []
   },
   "outputs": [],
   "source": [
    "filtered_coco_caps = {coco_id: coco_cap_new[int(coco_id)] for coco_id in coco_ids if int(coco_id) in coco_cap_new}"
   ]
  },
  {
   "cell_type": "code",
   "execution_count": null,
   "id": "ff6e24ca-e43d-41bc-8093-57560e8aba16",
   "metadata": {
    "tags": []
   },
   "outputs": [],
   "source": [
    "len(filtered_coco_caps)"
   ]
  },
  {
   "cell_type": "code",
   "execution_count": null,
   "id": "22857a1d-43ad-4c9b-8e33-998df4115d70",
   "metadata": {
    "scrolled": true,
    "tags": []
   },
   "outputs": [],
   "source": [
    "filtered_coco_caps"
   ]
  },
  {
   "cell_type": "markdown",
   "id": "fc695a5f-b925-4aa0-afe0-d97d4d2f004d",
   "metadata": {
    "tags": []
   },
   "source": [
    "### Run inference"
   ]
  },
  {
   "cell_type": "code",
   "execution_count": null,
   "id": "67772761-817e-46e4-a862-f146558922ff",
   "metadata": {
    "scrolled": true,
    "tags": []
   },
   "outputs": [],
   "source": [
    "import time\n",
    "\n",
    "digit_num = 12\n",
    "cnt = 0\n",
    "cap_list = {}\n",
    "conv_list = []\n",
    "\n",
    "instructions_generator, _ = build_conv_instruction_prompt()\n",
    "\n",
    "for img_id, cap in filtered_coco_caps.items():\n",
    "    # Generate answers\n",
    "    print(img_id)\n",
    "    start_time = time.time()\n",
    "    image_caption = '\\n'.join(cap)\n",
    "    instruct_data = instructions_generator.copy()\n",
    "    instruct_data.append({\"role\":\"user\", \"content\":image_caption})\n",
    "    prompt = format_instructions(instruct_data)\n",
    "    payload = {\n",
    "        \"inputs\": prompt,\n",
    "        \"parameters\": {\"max_new_tokens\": 5000, \"do_sample\": True}\n",
    "    }\n",
    "    response = query_endpoint(payload, llm_endpoint_name)\n",
    "    qa_pair = response[0]['generated_text']\n",
    "    \n",
    "    filtered_qa = check_qa_pair(qa_pair, image_caption, llm_endpoint_name) \n",
    "    print(filtered_qa)\n",
    "    img_id = img_id.zfill(digit_num)\n",
    "    conv_list.append({\n",
    "        \"id\": img_id,\n",
    "        \"image\":f\"coco/train2017/{img_id}.jpg\",\n",
    "        \"conversations\": parse_qa_response(filtered_qa)\n",
    "    })\n",
    "    print(f'{img_id} inference duration is {time.time() - start_time}')\n",
    "    \n",
    "    cap_list[img_id] = cap\n",
    "    if cnt > 10:\n",
    "        break\n",
    "    cnt += 1"
   ]
  },
  {
   "cell_type": "code",
   "execution_count": null,
   "id": "99b8368b-dcab-4a50-a30e-991bd79a7c8c",
   "metadata": {
    "tags": []
   },
   "outputs": [],
   "source": [
    "cap_list"
   ]
  },
  {
   "cell_type": "markdown",
   "id": "1154f7db-edd0-409b-9a75-1a8d3bc6d4cf",
   "metadata": {},
   "source": [
    "### Save result for comparison with instruct dataset generated with GPT4"
   ]
  },
  {
   "cell_type": "code",
   "execution_count": null,
   "id": "fcbba974-7db8-48a9-8c92-794d96aad338",
   "metadata": {
    "tags": []
   },
   "outputs": [],
   "source": [
    "with open('caps_coco.json', 'w') as f:\n",
    "    json.dump(cap_list, f, indent=4)"
   ]
  },
  {
   "cell_type": "code",
   "execution_count": null,
   "id": "9a416789-2589-473b-86bb-de19d03def87",
   "metadata": {
    "tags": []
   },
   "outputs": [],
   "source": [
    "import json\n",
    "\n",
    "with open('conv_mixtral.json', 'w') as f:\n",
    "    json.dump(conv_list, f, indent=4)"
   ]
  },
  {
   "cell_type": "markdown",
   "id": "25b9a1bc-4ee0-4b46-aaad-517ebb395567",
   "metadata": {},
   "source": [
    "Go to [dataset_analyze.ipynb](dataset_analyze.ipynb) for further analysis."
   ]
  },
  {
   "cell_type": "markdown",
   "id": "eb96e46b-e987-442e-8d2e-13b958105de2",
   "metadata": {},
   "source": [
    "## Delete endpoint"
   ]
  },
  {
   "cell_type": "code",
   "execution_count": null,
   "id": "8c9986e5-e65a-4bdd-b8d2-37b5bbe906ca",
   "metadata": {},
   "outputs": [],
   "source": [
    "predictor.delete_model()\n",
    "predictor.delete_endpoint()"
   ]
  },
  {
   "cell_type": "code",
   "execution_count": null,
   "id": "22216e9e-e0b9-4b5a-b691-6b95b3741bdd",
   "metadata": {},
   "outputs": [],
   "source": []
  }
 ],
 "metadata": {
  "availableInstances": [
   {
    "_defaultOrder": 0,
    "_isFastLaunch": true,
    "category": "General purpose",
    "gpuNum": 0,
    "hideHardwareSpecs": false,
    "memoryGiB": 4,
    "name": "ml.t3.medium",
    "vcpuNum": 2
   },
   {
    "_defaultOrder": 1,
    "_isFastLaunch": false,
    "category": "General purpose",
    "gpuNum": 0,
    "hideHardwareSpecs": false,
    "memoryGiB": 8,
    "name": "ml.t3.large",
    "vcpuNum": 2
   },
   {
    "_defaultOrder": 2,
    "_isFastLaunch": false,
    "category": "General purpose",
    "gpuNum": 0,
    "hideHardwareSpecs": false,
    "memoryGiB": 16,
    "name": "ml.t3.xlarge",
    "vcpuNum": 4
   },
   {
    "_defaultOrder": 3,
    "_isFastLaunch": false,
    "category": "General purpose",
    "gpuNum": 0,
    "hideHardwareSpecs": false,
    "memoryGiB": 32,
    "name": "ml.t3.2xlarge",
    "vcpuNum": 8
   },
   {
    "_defaultOrder": 4,
    "_isFastLaunch": true,
    "category": "General purpose",
    "gpuNum": 0,
    "hideHardwareSpecs": false,
    "memoryGiB": 8,
    "name": "ml.m5.large",
    "vcpuNum": 2
   },
   {
    "_defaultOrder": 5,
    "_isFastLaunch": false,
    "category": "General purpose",
    "gpuNum": 0,
    "hideHardwareSpecs": false,
    "memoryGiB": 16,
    "name": "ml.m5.xlarge",
    "vcpuNum": 4
   },
   {
    "_defaultOrder": 6,
    "_isFastLaunch": false,
    "category": "General purpose",
    "gpuNum": 0,
    "hideHardwareSpecs": false,
    "memoryGiB": 32,
    "name": "ml.m5.2xlarge",
    "vcpuNum": 8
   },
   {
    "_defaultOrder": 7,
    "_isFastLaunch": false,
    "category": "General purpose",
    "gpuNum": 0,
    "hideHardwareSpecs": false,
    "memoryGiB": 64,
    "name": "ml.m5.4xlarge",
    "vcpuNum": 16
   },
   {
    "_defaultOrder": 8,
    "_isFastLaunch": false,
    "category": "General purpose",
    "gpuNum": 0,
    "hideHardwareSpecs": false,
    "memoryGiB": 128,
    "name": "ml.m5.8xlarge",
    "vcpuNum": 32
   },
   {
    "_defaultOrder": 9,
    "_isFastLaunch": false,
    "category": "General purpose",
    "gpuNum": 0,
    "hideHardwareSpecs": false,
    "memoryGiB": 192,
    "name": "ml.m5.12xlarge",
    "vcpuNum": 48
   },
   {
    "_defaultOrder": 10,
    "_isFastLaunch": false,
    "category": "General purpose",
    "gpuNum": 0,
    "hideHardwareSpecs": false,
    "memoryGiB": 256,
    "name": "ml.m5.16xlarge",
    "vcpuNum": 64
   },
   {
    "_defaultOrder": 11,
    "_isFastLaunch": false,
    "category": "General purpose",
    "gpuNum": 0,
    "hideHardwareSpecs": false,
    "memoryGiB": 384,
    "name": "ml.m5.24xlarge",
    "vcpuNum": 96
   },
   {
    "_defaultOrder": 12,
    "_isFastLaunch": false,
    "category": "General purpose",
    "gpuNum": 0,
    "hideHardwareSpecs": false,
    "memoryGiB": 8,
    "name": "ml.m5d.large",
    "vcpuNum": 2
   },
   {
    "_defaultOrder": 13,
    "_isFastLaunch": false,
    "category": "General purpose",
    "gpuNum": 0,
    "hideHardwareSpecs": false,
    "memoryGiB": 16,
    "name": "ml.m5d.xlarge",
    "vcpuNum": 4
   },
   {
    "_defaultOrder": 14,
    "_isFastLaunch": false,
    "category": "General purpose",
    "gpuNum": 0,
    "hideHardwareSpecs": false,
    "memoryGiB": 32,
    "name": "ml.m5d.2xlarge",
    "vcpuNum": 8
   },
   {
    "_defaultOrder": 15,
    "_isFastLaunch": false,
    "category": "General purpose",
    "gpuNum": 0,
    "hideHardwareSpecs": false,
    "memoryGiB": 64,
    "name": "ml.m5d.4xlarge",
    "vcpuNum": 16
   },
   {
    "_defaultOrder": 16,
    "_isFastLaunch": false,
    "category": "General purpose",
    "gpuNum": 0,
    "hideHardwareSpecs": false,
    "memoryGiB": 128,
    "name": "ml.m5d.8xlarge",
    "vcpuNum": 32
   },
   {
    "_defaultOrder": 17,
    "_isFastLaunch": false,
    "category": "General purpose",
    "gpuNum": 0,
    "hideHardwareSpecs": false,
    "memoryGiB": 192,
    "name": "ml.m5d.12xlarge",
    "vcpuNum": 48
   },
   {
    "_defaultOrder": 18,
    "_isFastLaunch": false,
    "category": "General purpose",
    "gpuNum": 0,
    "hideHardwareSpecs": false,
    "memoryGiB": 256,
    "name": "ml.m5d.16xlarge",
    "vcpuNum": 64
   },
   {
    "_defaultOrder": 19,
    "_isFastLaunch": false,
    "category": "General purpose",
    "gpuNum": 0,
    "hideHardwareSpecs": false,
    "memoryGiB": 384,
    "name": "ml.m5d.24xlarge",
    "vcpuNum": 96
   },
   {
    "_defaultOrder": 20,
    "_isFastLaunch": false,
    "category": "General purpose",
    "gpuNum": 0,
    "hideHardwareSpecs": true,
    "memoryGiB": 0,
    "name": "ml.geospatial.interactive",
    "supportedImageNames": [
     "sagemaker-geospatial-v1-0"
    ],
    "vcpuNum": 0
   },
   {
    "_defaultOrder": 21,
    "_isFastLaunch": true,
    "category": "Compute optimized",
    "gpuNum": 0,
    "hideHardwareSpecs": false,
    "memoryGiB": 4,
    "name": "ml.c5.large",
    "vcpuNum": 2
   },
   {
    "_defaultOrder": 22,
    "_isFastLaunch": false,
    "category": "Compute optimized",
    "gpuNum": 0,
    "hideHardwareSpecs": false,
    "memoryGiB": 8,
    "name": "ml.c5.xlarge",
    "vcpuNum": 4
   },
   {
    "_defaultOrder": 23,
    "_isFastLaunch": false,
    "category": "Compute optimized",
    "gpuNum": 0,
    "hideHardwareSpecs": false,
    "memoryGiB": 16,
    "name": "ml.c5.2xlarge",
    "vcpuNum": 8
   },
   {
    "_defaultOrder": 24,
    "_isFastLaunch": false,
    "category": "Compute optimized",
    "gpuNum": 0,
    "hideHardwareSpecs": false,
    "memoryGiB": 32,
    "name": "ml.c5.4xlarge",
    "vcpuNum": 16
   },
   {
    "_defaultOrder": 25,
    "_isFastLaunch": false,
    "category": "Compute optimized",
    "gpuNum": 0,
    "hideHardwareSpecs": false,
    "memoryGiB": 72,
    "name": "ml.c5.9xlarge",
    "vcpuNum": 36
   },
   {
    "_defaultOrder": 26,
    "_isFastLaunch": false,
    "category": "Compute optimized",
    "gpuNum": 0,
    "hideHardwareSpecs": false,
    "memoryGiB": 96,
    "name": "ml.c5.12xlarge",
    "vcpuNum": 48
   },
   {
    "_defaultOrder": 27,
    "_isFastLaunch": false,
    "category": "Compute optimized",
    "gpuNum": 0,
    "hideHardwareSpecs": false,
    "memoryGiB": 144,
    "name": "ml.c5.18xlarge",
    "vcpuNum": 72
   },
   {
    "_defaultOrder": 28,
    "_isFastLaunch": false,
    "category": "Compute optimized",
    "gpuNum": 0,
    "hideHardwareSpecs": false,
    "memoryGiB": 192,
    "name": "ml.c5.24xlarge",
    "vcpuNum": 96
   },
   {
    "_defaultOrder": 29,
    "_isFastLaunch": true,
    "category": "Accelerated computing",
    "gpuNum": 1,
    "hideHardwareSpecs": false,
    "memoryGiB": 16,
    "name": "ml.g4dn.xlarge",
    "vcpuNum": 4
   },
   {
    "_defaultOrder": 30,
    "_isFastLaunch": false,
    "category": "Accelerated computing",
    "gpuNum": 1,
    "hideHardwareSpecs": false,
    "memoryGiB": 32,
    "name": "ml.g4dn.2xlarge",
    "vcpuNum": 8
   },
   {
    "_defaultOrder": 31,
    "_isFastLaunch": false,
    "category": "Accelerated computing",
    "gpuNum": 1,
    "hideHardwareSpecs": false,
    "memoryGiB": 64,
    "name": "ml.g4dn.4xlarge",
    "vcpuNum": 16
   },
   {
    "_defaultOrder": 32,
    "_isFastLaunch": false,
    "category": "Accelerated computing",
    "gpuNum": 1,
    "hideHardwareSpecs": false,
    "memoryGiB": 128,
    "name": "ml.g4dn.8xlarge",
    "vcpuNum": 32
   },
   {
    "_defaultOrder": 33,
    "_isFastLaunch": false,
    "category": "Accelerated computing",
    "gpuNum": 4,
    "hideHardwareSpecs": false,
    "memoryGiB": 192,
    "name": "ml.g4dn.12xlarge",
    "vcpuNum": 48
   },
   {
    "_defaultOrder": 34,
    "_isFastLaunch": false,
    "category": "Accelerated computing",
    "gpuNum": 1,
    "hideHardwareSpecs": false,
    "memoryGiB": 256,
    "name": "ml.g4dn.16xlarge",
    "vcpuNum": 64
   },
   {
    "_defaultOrder": 35,
    "_isFastLaunch": false,
    "category": "Accelerated computing",
    "gpuNum": 1,
    "hideHardwareSpecs": false,
    "memoryGiB": 61,
    "name": "ml.p3.2xlarge",
    "vcpuNum": 8
   },
   {
    "_defaultOrder": 36,
    "_isFastLaunch": false,
    "category": "Accelerated computing",
    "gpuNum": 4,
    "hideHardwareSpecs": false,
    "memoryGiB": 244,
    "name": "ml.p3.8xlarge",
    "vcpuNum": 32
   },
   {
    "_defaultOrder": 37,
    "_isFastLaunch": false,
    "category": "Accelerated computing",
    "gpuNum": 8,
    "hideHardwareSpecs": false,
    "memoryGiB": 488,
    "name": "ml.p3.16xlarge",
    "vcpuNum": 64
   },
   {
    "_defaultOrder": 38,
    "_isFastLaunch": false,
    "category": "Accelerated computing",
    "gpuNum": 8,
    "hideHardwareSpecs": false,
    "memoryGiB": 768,
    "name": "ml.p3dn.24xlarge",
    "vcpuNum": 96
   },
   {
    "_defaultOrder": 39,
    "_isFastLaunch": false,
    "category": "Memory Optimized",
    "gpuNum": 0,
    "hideHardwareSpecs": false,
    "memoryGiB": 16,
    "name": "ml.r5.large",
    "vcpuNum": 2
   },
   {
    "_defaultOrder": 40,
    "_isFastLaunch": false,
    "category": "Memory Optimized",
    "gpuNum": 0,
    "hideHardwareSpecs": false,
    "memoryGiB": 32,
    "name": "ml.r5.xlarge",
    "vcpuNum": 4
   },
   {
    "_defaultOrder": 41,
    "_isFastLaunch": false,
    "category": "Memory Optimized",
    "gpuNum": 0,
    "hideHardwareSpecs": false,
    "memoryGiB": 64,
    "name": "ml.r5.2xlarge",
    "vcpuNum": 8
   },
   {
    "_defaultOrder": 42,
    "_isFastLaunch": false,
    "category": "Memory Optimized",
    "gpuNum": 0,
    "hideHardwareSpecs": false,
    "memoryGiB": 128,
    "name": "ml.r5.4xlarge",
    "vcpuNum": 16
   },
   {
    "_defaultOrder": 43,
    "_isFastLaunch": false,
    "category": "Memory Optimized",
    "gpuNum": 0,
    "hideHardwareSpecs": false,
    "memoryGiB": 256,
    "name": "ml.r5.8xlarge",
    "vcpuNum": 32
   },
   {
    "_defaultOrder": 44,
    "_isFastLaunch": false,
    "category": "Memory Optimized",
    "gpuNum": 0,
    "hideHardwareSpecs": false,
    "memoryGiB": 384,
    "name": "ml.r5.12xlarge",
    "vcpuNum": 48
   },
   {
    "_defaultOrder": 45,
    "_isFastLaunch": false,
    "category": "Memory Optimized",
    "gpuNum": 0,
    "hideHardwareSpecs": false,
    "memoryGiB": 512,
    "name": "ml.r5.16xlarge",
    "vcpuNum": 64
   },
   {
    "_defaultOrder": 46,
    "_isFastLaunch": false,
    "category": "Memory Optimized",
    "gpuNum": 0,
    "hideHardwareSpecs": false,
    "memoryGiB": 768,
    "name": "ml.r5.24xlarge",
    "vcpuNum": 96
   },
   {
    "_defaultOrder": 47,
    "_isFastLaunch": false,
    "category": "Accelerated computing",
    "gpuNum": 1,
    "hideHardwareSpecs": false,
    "memoryGiB": 16,
    "name": "ml.g5.xlarge",
    "vcpuNum": 4
   },
   {
    "_defaultOrder": 48,
    "_isFastLaunch": false,
    "category": "Accelerated computing",
    "gpuNum": 1,
    "hideHardwareSpecs": false,
    "memoryGiB": 32,
    "name": "ml.g5.2xlarge",
    "vcpuNum": 8
   },
   {
    "_defaultOrder": 49,
    "_isFastLaunch": false,
    "category": "Accelerated computing",
    "gpuNum": 1,
    "hideHardwareSpecs": false,
    "memoryGiB": 64,
    "name": "ml.g5.4xlarge",
    "vcpuNum": 16
   },
   {
    "_defaultOrder": 50,
    "_isFastLaunch": false,
    "category": "Accelerated computing",
    "gpuNum": 1,
    "hideHardwareSpecs": false,
    "memoryGiB": 128,
    "name": "ml.g5.8xlarge",
    "vcpuNum": 32
   },
   {
    "_defaultOrder": 51,
    "_isFastLaunch": false,
    "category": "Accelerated computing",
    "gpuNum": 1,
    "hideHardwareSpecs": false,
    "memoryGiB": 256,
    "name": "ml.g5.16xlarge",
    "vcpuNum": 64
   },
   {
    "_defaultOrder": 52,
    "_isFastLaunch": false,
    "category": "Accelerated computing",
    "gpuNum": 4,
    "hideHardwareSpecs": false,
    "memoryGiB": 192,
    "name": "ml.g5.12xlarge",
    "vcpuNum": 48
   },
   {
    "_defaultOrder": 53,
    "_isFastLaunch": false,
    "category": "Accelerated computing",
    "gpuNum": 4,
    "hideHardwareSpecs": false,
    "memoryGiB": 384,
    "name": "ml.g5.24xlarge",
    "vcpuNum": 96
   },
   {
    "_defaultOrder": 54,
    "_isFastLaunch": false,
    "category": "Accelerated computing",
    "gpuNum": 8,
    "hideHardwareSpecs": false,
    "memoryGiB": 768,
    "name": "ml.g5.48xlarge",
    "vcpuNum": 192
   },
   {
    "_defaultOrder": 55,
    "_isFastLaunch": false,
    "category": "Accelerated computing",
    "gpuNum": 8,
    "hideHardwareSpecs": false,
    "memoryGiB": 1152,
    "name": "ml.p4d.24xlarge",
    "vcpuNum": 96
   },
   {
    "_defaultOrder": 56,
    "_isFastLaunch": false,
    "category": "Accelerated computing",
    "gpuNum": 8,
    "hideHardwareSpecs": false,
    "memoryGiB": 1152,
    "name": "ml.p4de.24xlarge",
    "vcpuNum": 96
   },
   {
    "_defaultOrder": 57,
    "_isFastLaunch": false,
    "category": "Accelerated computing",
    "gpuNum": 0,
    "hideHardwareSpecs": false,
    "memoryGiB": 32,
    "name": "ml.trn1.2xlarge",
    "vcpuNum": 8
   },
   {
    "_defaultOrder": 58,
    "_isFastLaunch": false,
    "category": "Accelerated computing",
    "gpuNum": 0,
    "hideHardwareSpecs": false,
    "memoryGiB": 512,
    "name": "ml.trn1.32xlarge",
    "vcpuNum": 128
   },
   {
    "_defaultOrder": 59,
    "_isFastLaunch": false,
    "category": "Accelerated computing",
    "gpuNum": 0,
    "hideHardwareSpecs": false,
    "memoryGiB": 512,
    "name": "ml.trn1n.32xlarge",
    "vcpuNum": 128
   }
  ],
  "instance_type": "ml.m5.4xlarge",
  "kernelspec": {
   "display_name": "Python 3 (Data Science 3.0)",
   "language": "python",
   "name": "python3__SAGEMAKER_INTERNAL__arn:aws:sagemaker:us-west-2:236514542706:image/sagemaker-data-science-310-v1"
  },
  "language_info": {
   "codemirror_mode": {
    "name": "ipython",
    "version": 3
   },
   "file_extension": ".py",
   "mimetype": "text/x-python",
   "name": "python",
   "nbconvert_exporter": "python",
   "pygments_lexer": "ipython3",
   "version": "3.10.6"
  }
 },
 "nbformat": 4,
 "nbformat_minor": 5
}
